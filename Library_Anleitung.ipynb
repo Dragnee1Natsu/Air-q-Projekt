{
 "cells": [
  {
   "cell_type": "markdown",
   "metadata": {},
   "source": [
    "# Inhaltsverzeichnis\n",
    "1. [Einleitung](#introduction)\n",
    "2. [Kurzvorstellung der Module](#short_intro)\n",
    "3. [Einbindung der Module](#modul)\n",
    "4. [Funktionsumfang LibraryImporter](#LibraryImporter)\n",
    "\n",
    "---\n",
    "\n",
    "## 1. Einleitung <a name=\"introduction\"></a>\n",
    "\n",
    "Die `LibraryImporter`-Klasse ist eine nützliche Python-Klasse, die Ihnen dabei hilft, verschiedene Bibliotheken in Ihrer Entwicklungsumgebung zu importieren und zu installieren. Mit dieser Klasse können Sie sicherstellen, dass alle benötigten Module verfügbar sind, bevor Sie mit der eigentlichen Entwicklung beginnen. Die Klasse bietet Funktionen zum Installieren und Importieren der Module und kann leicht in Ihrem Projekt verwendet werden.\n",
    "\n",
    "## 2. Kurzvorstellung der Module <a name=\"short_intro\"></a>\n",
    "\n",
    "Bevor wir die Funktionsweise des `LibraryImporter` genauer betrachten, lassen Sie uns einen kurzen Überblick über die Module geben, die er behandelt:\n",
    "\n",
    "1. **numpy**: Bibliothek für numerische Berechnungen mit Python.\n",
    "2. **pandas**: Bibliothek zur Datenmanipulation und -analyse.\n",
    "3. **matplotlib**: Bibliothek zur Erstellung von Diagrammen und Visualisierungen.\n",
    "4. **seaborn**: Erweiterte Visualisierungen und Diagramme auf Basis von Matplotlib.\n",
    "5. **mariadb**: Python-Client für die Verbindung mit MariaDB-Datenbanken.\n",
    "6. **pycryptodome**: Bibliothek für Verschlüsselung und Kryptografie.\n",
    "7. **http.client**: Modul zum Erstellen von HTTP-Anfragen in Python.\n",
    "8. **json**: Modul zum Arbeiten mit JSON-Daten in Python.\n",
    "9. **sqlalchemy**: SQL Toolkit und ORM (Object-Relational Mapping) für Python.\n",
    "\n",
    "## 3. Einbindung der Module <a name=\"modul\"></a>\n",
    "\n",
    "Um die `LibraryImporter`-Klasse nutzen zu können, stellen Sie sicher, dass Sie eine lauffähige Python-Installation auf Ihrem System haben. Führen Sie die folgenden Schritte aus:\n",
    "\n",
    "1. Öffnen Sie Visual Studio Code oder eine andere Python-Entwicklungsumgebung.\n",
    "\n",
    "2. Kopieren Sie den Quellcode der `LibraryImporter`-Klasse in eine Python-Datei, z. B. \"library_importer.py\".\n",
    "\n",
    "3. Speichern Sie die Datei an einem geeigneten Ort in Ihrem Projektordner.\n",
    "\n",
    "## 4. Funktionsumfang LibraryImporter <a name=\"LibraryImporter\"></a>\n",
    "\n",
    "Die `LibraryImporter`-Klasse verfügt über zwei Hauptfunktionen:\n",
    "\n",
    "- `install_libraries()`: Diese Funktion prüft, ob die benötigten Bibliotheken auf Ihrem System installiert sind. Wenn nicht, werden sie automatisch über `pip` installiert.\n",
    "\n",
    "- `import_libraries()`: Diese Funktion importiert die benötigten Bibliotheken in Ihre Python-Entwicklungsumgebung, damit Sie sie in Ihrem Code verwenden können.\n",
    "\n"
   ]
  },
  {
   "cell_type": "markdown",
   "metadata": {},
   "source": [
    "### Beispielhafter Aufruf:\n"
   ]
  },
  {
   "cell_type": "markdown",
   "metadata": {},
   "source": [
    "\n",
    "\n",
    "```python\n",
    "# Importieren Sie die Klasse\n"
   ]
  },
  {
   "cell_type": "code",
   "execution_count": 2,
   "metadata": {},
   "outputs": [],
   "source": [
    "import LibraryImporter"
   ]
  },
  {
   "cell_type": "markdown",
   "metadata": {},
   "source": [
    "Sollte dies nicht der Fall sein, dann müssen Sie zuerst den Dateipfad zu den beiden Modul-Dateien angeben."
   ]
  },
  {
   "cell_type": "code",
   "execution_count": 3,
   "metadata": {},
   "outputs": [],
   "source": [
    "\n",
    "import sys\n",
    "sys.path.append(\"/pfad/zum/verzeichnis\") \n",
    "\n",
    "import LibraryImporter\n"
   ]
  },
  {
   "cell_type": "markdown",
   "metadata": {},
   "source": [
    " Wenn sie auf den Terminalrechner sind der Pfad lautet : `C:\\Users\\Public\\Documents\\IP Smart-Sensor\\Air-q-Projekt`, \n",
    " wenn es auf ihrem eigenen Rechner sind suchen sie einfach der Pfad, Wo sie das Projekt gespeichert haben"
   ]
  },
  {
   "cell_type": "markdown",
   "metadata": {},
   "source": [
    "```python\n",
    "# Erzeugen Sie eine Instanz des LibraryImporter"
   ]
  },
  {
   "cell_type": "code",
   "execution_count": 4,
   "metadata": {},
   "outputs": [],
   "source": [
    "lib = LibraryImporter.LibraryImporter()"
   ]
  },
  {
   "cell_type": "markdown",
   "metadata": {},
   "source": [
    "```python\n",
    "# Installieren der Bibliotheken (falls noch nicht vorhanden)"
   ]
  },
  {
   "cell_type": "code",
   "execution_count": 5,
   "metadata": {},
   "outputs": [
    {
     "name": "stdout",
     "output_type": "stream",
     "text": [
      "pycryptodome wird installiert...\n"
     ]
    }
   ],
   "source": [
    "lib.install_libraries()"
   ]
  },
  {
   "cell_type": "markdown",
   "metadata": {},
   "source": [
    "```python\n",
    "# Importieren der Bibliotheken"
   ]
  },
  {
   "cell_type": "code",
   "execution_count": 6,
   "metadata": {},
   "outputs": [
    {
     "name": "stdout",
     "output_type": "stream",
     "text": [
      "Alle benötigten Bibliotheken wurden erfolgreich importiert.\n"
     ]
    }
   ],
   "source": [
    "lib.import_libraries()"
   ]
  },
  {
   "cell_type": "markdown",
   "metadata": {},
   "source": [
    "Bitte stellen Sie sicher, dass Sie eine funktionierende Internetverbindung haben, damit die Bibliotheken über `pip` installiert werden können."
   ]
  },
  {
   "cell_type": "markdown",
   "metadata": {},
   "source": [
    "`pip installation: ` "
   ]
  },
  {
   "cell_type": "markdown",
   "metadata": {},
   "source": [
    "Ab Python-Version 3.4 ist pip in der Python-Bibliothek standardmäßig enthalten. Das bedeutet, dass pip automatisch mit Python mitgeliefert wird, wenn du eine Version ab 3.4 verwendest. Somit musst du pip nicht separat installieren, wenn du eine aktuelle Python-Version verwendest.\n",
    "___"
   ]
  },
  {
   "cell_type": "markdown",
   "metadata": {},
   "source": [
    "Viel Spaß beim Entwickeln mit Ihrer Python-Entwicklungsumgebung und den importierten Bibliotheken!"
   ]
  }
 ],
 "metadata": {
  "kernelspec": {
   "display_name": "Python 3",
   "language": "python",
   "name": "python3"
  },
  "language_info": {
   "codemirror_mode": {
    "name": "ipython",
    "version": 3
   },
   "file_extension": ".py",
   "mimetype": "text/x-python",
   "name": "python",
   "nbconvert_exporter": "python",
   "pygments_lexer": "ipython3",
   "version": "3.8.0"
  },
  "orig_nbformat": 4
 },
 "nbformat": 4,
 "nbformat_minor": 2
}
