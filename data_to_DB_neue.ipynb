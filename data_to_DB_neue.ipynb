{
 "cells": [
  {
   "cell_type": "code",
   "execution_count": 7,
   "metadata": {},
   "outputs": [],
   "source": [
    "# Importiere das DBHandler-Modul\n",
    "from DBHandler import DBHandler"
   ]
  },
  {
   "cell_type": "code",
   "execution_count": 9,
   "metadata": {},
   "outputs": [],
   "source": [
    "# Erstelle ein Klassenobjekt von DBHandler\n",
    "dbhandler = DBHandler()\n",
    "\n",
    "# Verbindung zur Datenbank herstellen\n",
    "connection = dbhandler.connect_to_DB(\n",
    "    user=\"airq\",\n",
    "    password=\"airq\",\n",
    "    host=\"localhost\",\n",
    "    port=3306,\n",
    "    database=\"airq_data\"\n",
    ")"
   ]
  },
  {
   "cell_type": "code",
   "execution_count": 13,
   "metadata": {},
   "outputs": [
    {
     "name": "stdout",
     "output_type": "stream",
     "text": [
      "Latest timestamp in table 'alex' is: None\n"
     ]
    }
   ],
   "source": [
    "# Beispiel für die Verwendung von get_latest_timestamp\n",
    "latest_timestamp = dbhandler.get_latest_timestamp(\"alex\")\n",
    "print(\"Latest timestamp in table 'alex' is:\", latest_timestamp)"
   ]
  }
 ],
 "metadata": {
  "kernelspec": {
   "display_name": "Python 3",
   "language": "python",
   "name": "python3"
  },
  "language_info": {
   "codemirror_mode": {
    "name": "ipython",
    "version": 3
   },
   "file_extension": ".py",
   "mimetype": "text/x-python",
   "name": "python",
   "nbconvert_exporter": "python",
   "pygments_lexer": "ipython3",
   "version": "3.11.1"
  },
  "orig_nbformat": 4
 },
 "nbformat": 4,
 "nbformat_minor": 2
}
