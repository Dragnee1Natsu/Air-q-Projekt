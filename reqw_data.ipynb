{
 "cells": [
  {
   "cell_type": "code",
   "execution_count": 5,
   "metadata": {},
   "outputs": [],
   "source": [
    "import base64\n",
    "import json\n",
    "from Crypto.Cipher import AES\n",
    "import http.client"
   ]
  },
  {
   "cell_type": "code",
   "execution_count": 7,
   "metadata": {},
   "outputs": [
    {
     "name": "stdout",
     "output_type": "stream",
     "text": [
      "{\"tvoc\": [26, 3.9], \"pm2_5\": [0, 10], \"DeviceID\": \"de7fd19cce1c108a714ab9063e3a7518\", \"Status\": \"OK\", \"humidity\": [51.844, 3.76], \"cnt0_3\": [63, 16], \"measuretime\": 2596, \"sound\": [63.1, 2.1], \"temperature\": [20.804, 0.54], \"cnt0_5\": [17, 12], \"performance\": 846.8409, \"co\": [1.485, 0.2], \"humidity_abs\": [9.427, 0.56], \"co2\": [635, 69.05], \"uptime\": 75309, \"so2\": [10.42, 145.4], \"cnt2_5\": [0, 10], \"o3\": [13.29, 1.2], \"cnt10\": [0, 10], \"no2\": [46.15, 3.9], \"cnt5\": [0, 10], \"timestamp\": 1679575110000, \"pressure\": [982.03, 1.0], \"TypPS\": 15, \"cnt1\": [0, 10], \"door_event\": 0, \"pm1\": [0, 10], \"oxygen\": [20.794, 2.44], \"dewpt\": [10.215, 0.9], \"pm10\": [0, 10], \"health\": 825, \"bat\": [0, 0], \"dHdt\": 0.0, \"dCO2dt\": 20.74}\n"
     ]
    }
   ],
   "source": [
    "########################\n",
    "airqIP = '192.168.4.1'\n",
    "airqpass = 'airqsetup'\n",
    "#########################\n",
    "\n",
    "def unpad(data):\n",
    "  return data[:-ord(data[-1])]\n",
    "\n",
    "\n",
    "def decodeMessage(msgb64):\n",
    "  # Erster Schritt: base64 dekodieren\n",
    "  msg = base64.b64decode(msgb64)\n",
    "\n",
    "  # AES-Schlüssel der Länge 32 aus dem air-Q-Passwort erstellen\n",
    "  key = airqpass.encode('utf-8')\n",
    "  if len(key) < 32:\n",
    "    for i in range(32-len(key)):\n",
    "      key += b'0'\n",
    "  elif len(key) > 32:\n",
    "    key = key[:32]\n",
    "\n",
    "  # Zweiter Schritt: AES256 dekodieren\n",
    "  cipher = AES.new(key=key, mode=AES.MODE_CBC, IV=msg[:16])\n",
    "  return unpad(cipher.decrypt(msg[16:]).decode('utf-8'))\n",
    "\n",
    "# Verbindung zum air-Q aufbauen\n",
    "connection = http.client.HTTPConnection(airqIP)\n",
    "\n",
    "# Daten anfordern\n",
    "connection.request(\"GET\", \"/data\")\n",
    "contents = connection.getresponse()\n",
    "\n",
    "# Daten entschlüsseln und ausgeben\n",
    "msg = json.loads(contents.read())\n",
    "msg['content'] = json.loads(decodeMessage(msg['content']))\n",
    "print(json.dumps(msg['content']))\n",
    "\n",
    "# Verbindung trennen\n",
    "connection.close()\n",
    "\n",
    "# Serializing json\n",
    "json_object = json.dumps(msg['content'], indent=4)\n",
    " \n",
    "# Writing to sample.json\n",
    "with open(\"measurement_data.json\", \"w\") as outfile:\n",
    "    outfile.write(json_object)"
   ]
  }
 ],
 "metadata": {
  "kernelspec": {
   "display_name": "Python 3",
   "language": "python",
   "name": "python3"
  },
  "language_info": {
   "codemirror_mode": {
    "name": "ipython",
    "version": 3
   },
   "file_extension": ".py",
   "mimetype": "text/x-python",
   "name": "python",
   "nbconvert_exporter": "python",
   "pygments_lexer": "ipython3",
   "version": "3.11.2"
  },
  "orig_nbformat": 4,
  "vscode": {
   "interpreter": {
    "hash": "2a0a050ab192e474f7b7272bdadf992268f3a2dcfb356b7a62d3b65c1e4eaca4"
   }
  }
 },
 "nbformat": 4,
 "nbformat_minor": 2
}
