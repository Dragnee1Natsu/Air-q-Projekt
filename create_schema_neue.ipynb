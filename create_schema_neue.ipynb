{
 "cells": [
  {
   "cell_type": "code",
   "execution_count": 4,
   "metadata": {},
   "outputs": [],
   "source": [
    "# Importiere das DBHandler-Modul\n",
    "from DBHandler import DBHandler"
   ]
  },
  {
   "cell_type": "code",
   "execution_count": 9,
   "metadata": {},
   "outputs": [
    {
     "data": {
      "text/plain": [
       "<mariadb.connection connected to 'localhost' at 0000021F117A6CF0>"
      ]
     },
     "execution_count": 9,
     "metadata": {},
     "output_type": "execute_result"
    }
   ],
   "source": [
    "# Erstelle ein Klassenobjekt von DBHandler\n",
    "dbhandler = DBHandler()\n",
    "\n",
    "# Verbindung zur Datenbank herstellen\n",
    "dbhandler.connect_to_DB(\n",
    "    user=\"airq\",\n",
    "    password=\"airq\",\n",
    "    host=\"localhost\",\n",
    "    port=3306,\n",
    "    database=\"airq_data\"\n",
    ")"
   ]
  },
  {
   "cell_type": "code",
   "execution_count": 10,
   "metadata": {},
   "outputs": [
    {
     "name": "stdout",
     "output_type": "stream",
     "text": [
      "Table 'alex' created\n"
     ]
    }
   ],
   "source": [
    "# Tabellennamen definieren\n",
    "tablename = \"alex\"\n",
    "\n",
    "# Tabelle mit dem gewünschten Schema erstellen\n",
    "dbhandler.create_table(tablename)\n"
   ]
  }
 ],
 "metadata": {
  "kernelspec": {
   "display_name": "Python 3",
   "language": "python",
   "name": "python3"
  },
  "language_info": {
   "codemirror_mode": {
    "name": "ipython",
    "version": 3
   },
   "file_extension": ".py",
   "mimetype": "text/x-python",
   "name": "python",
   "nbconvert_exporter": "python",
   "pygments_lexer": "ipython3",
   "version": "3.11.1"
  },
  "orig_nbformat": 4
 },
 "nbformat": 4,
 "nbformat_minor": 2
}
