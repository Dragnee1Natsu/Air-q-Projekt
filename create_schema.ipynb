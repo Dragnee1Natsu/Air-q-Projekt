{
 "cells": [
  {
   "cell_type": "code",
   "execution_count": 1,
   "metadata": {},
   "outputs": [],
   "source": [
    "# Module Imports\n",
    "\n",
    "#DB stuff\n",
    "import mariadb\n",
    "import sys"
   ]
  },
  {
   "cell_type": "code",
   "execution_count": 2,
   "metadata": {},
   "outputs": [],
   "source": [
    "#Connect with DB\n",
    "# Connect to MariaDB Platform\n",
    "try:\n",
    "    conn = mariadb.connect(\n",
    "        user=\"airq\",\n",
    "        password=\"airq\",\n",
    "        host=\"localhost\",\n",
    "        port=3306,\n",
    "        database=\"airq_data\"\n",
    "\n",
    "    )\n",
    "except mariadb.Error as e:\n",
    "    print(f\"Error connecting to MariaDB Platform: {e}\")\n",
    "    sys.exit(1)\n",
    "\n",
    "# Get Cursor\n",
    "cur = conn.cursor()"
   ]
  },
  {
   "cell_type": "code",
   "execution_count": 3,
   "metadata": {},
   "outputs": [],
   "source": [
    "sql = \"\"\"ALTER TABLE measurements DROP COLUMN Status;\"\"\""
   ]
  },
  {
   "cell_type": "code",
   "execution_count": 4,
   "metadata": {},
   "outputs": [],
   "source": [
    "#SQL-Statement zum kreieren einer Table\n",
    "sql = \"\"\"CREATE TABLE IF NOT EXISTS  `measurements` \n",
    "\t\t\t(`TypPS` FLOAT DEFAULT NULL COMMENT ' Die durchschnittliche Partikelgröße in µm.'\n",
    "            ,`oxygen` FLOAT DEFAULT NULL COMMENT 'Sauerstoff-Konzentration in Volumen-Prozent.'\n",
    "            ,`pm10` FLOAT DEFAULT NULL COMMENT ' Feinstaubkonzentration für die Partikel 10 µm in µg/m3.'\n",
    "            ,`cnt0_5` FLOAT DEFAULT NULL COMMENT 'Die Gesamtzahl der Feinstaub-Partikel größer als 0,5 µm.'\n",
    "            ,`co` FLOAT DEFAULT NULL COMMENT 'CO-Konzentration in ppm.'\n",
    "            ,`temperature` FLOAT DEFAULT NULL COMMENT 'Temperatur in °C.'\n",
    "            ,`performance` FLOAT DEFAULT NULL COMMENT 'Berechneter Leistungsindex.'\n",
    "            ,`co2` FLOAT DEFAULT NULL COMMENT 'CO2-Konzentration in ppm.'\n",
    "            ,`measuretime` INT DEFAULT NULL COMMENT 'Zeit in ms, die für den gesamten letzten Messdurchlauf benötigt wurde.' \n",
    "            ,`so2` FLOAT DEFAULT NULL COMMENT 'SO2-Konzentration in µg/m3.'\n",
    "            ,`no2` FLOAT DEFAULT NULL COMMENT 'NO2-Konzentration in µg/m3.'\n",
    "            ,`cnt5` FLOAT DEFAULT NULL COMMENT 'Die Gesamtzahl der Feinstaub-Partikel größer als 5 µm.'\n",
    "            ,`timestamp` TIMESTAMP NOT NULL COMMENT 'Zeitstempel zu den Messwerten als Unix-Epoche in Millisekunden.'\n",
    "            ,`pm1` FLOAT DEFAULT NULL COMMENT 'Feinstaubkonzentration für die Partikel 1.0 µm in µg/m3.'\n",
    "            ,`cnt1` FLOAT DEFAULT NULL COMMENT 'Die Gesamtzahl der Feinstaub-Partikel größer als 1 µm.'\n",
    "            ,`dewpt` FLOAT DEFAULT NULL COMMENT 'Taupunkt in °C.'\n",
    "            ,`tvoc` FLOAT DEFAULT NULL COMMENT 'VOC-Konzentration in ppb.'\n",
    "            ,`pressure` FLOAT DEFAULT NULL COMMENT 'Luftdruck in hPa.'\n",
    "            ,`cnt10` FLOAT DEFAULT NULL COMMENT 'Die Gesamtzahl der Feinstaub-Partikel größer als 10 µm.'\n",
    "            ,`dCO2dt` FLOAT DEFAULT NULL COMMENT 'CO2-Änderungsrate in ppm/s.'\n",
    "            ,`sound_max` FLOAT DEFAULT NULL COMMENT 'Maimaler Lärm in dB(A).'\n",
    "            ,`health` FLOAT DEFAULT NULL COMMENT 'Berechneter Gesundheitsindex. Bereich 0 bis 1000: normale Bewertung. -200 bei Gasalarm. -800 bei Feueralarm.'\n",
    "            ,`temperature_o2` FLOAT DEFAULT NULL COMMENT 'Temperatur in °C.'\n",
    "            ,`cnt2_5` FLOAT DEFAULT NULL COMMENT 'Die Gesamtzahl der Feinstaub-Partikel größer als 2,5 µm.'\n",
    "            ,`o3` FLOAT DEFAULT NULL COMMENT 'O3-Konzentration in µg/m3.'\n",
    "            ,`humidity` FLOAT DEFAULT NULL COMMENT 'Relative Luftfeuchtigkeit in %.'\n",
    "            ,`dHdt` FLOAT DEFAULT NULL COMMENT 'Änderungsrate der absoluten Luftfeuchtigkeit in g/m3/s.'\n",
    "            ,`humidity_abs` FLOAT DEFAULT NULL COMMENT 'Absolute Luftfeuchtigkeit in g/m3.'\n",
    "            ,`sound` FLOAT DEFAULT NULL COMMENT 'Lärm in dB(A).'\n",
    "            ,`pm2_5` FLOAT DEFAULT NULL COMMENT 'Feinstaubkonzentration für die Partikel 2.5 µm in µg/m3.'\n",
    "            ,`cnt0_3` FLOAT DEFAULT NULL COMMENT 'Die Gesamtzahl der Feinstaub-Partikel größer als 0,3 µm.',\n",
    "\t\t\tPRIMARY KEY (`timestamp`)\n",
    "            )\"\"\"\n"
   ]
  },
  {
   "cell_type": "code",
   "execution_count": 4,
   "metadata": {},
   "outputs": [],
   "source": [
    "#führt SQL-Statement aus\n",
    "cur.execute(sql)"
   ]
  },
  {
   "cell_type": "code",
   "execution_count": 5,
   "metadata": {},
   "outputs": [],
   "source": [
    "#DB-Connection close\n",
    "conn.close()"
   ]
  },
  {
   "cell_type": "code",
   "execution_count": null,
   "metadata": {},
   "outputs": [],
   "source": []
  }
 ],
 "metadata": {
  "kernelspec": {
   "display_name": "Python 3",
   "language": "python",
   "name": "python3"
  },
  "language_info": {
   "codemirror_mode": {
    "name": "ipython",
    "version": 3
   },
   "file_extension": ".py",
   "mimetype": "text/x-python",
   "name": "python",
   "nbconvert_exporter": "python",
   "pygments_lexer": "ipython3",
   "version": "3.11.2"
  },
  "orig_nbformat": 4
 },
 "nbformat": 4,
 "nbformat_minor": 2
}
