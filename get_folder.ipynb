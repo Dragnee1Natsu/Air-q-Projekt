{
 "cells": [
  {
   "cell_type": "code",
   "execution_count": 2,
   "metadata": {},
   "outputs": [],
   "source": [
    "import base64\n",
    "from Crypto.Cipher import AES\n",
    "import http.client"
   ]
  },
  {
   "cell_type": "code",
   "execution_count": 3,
   "metadata": {},
   "outputs": [
    {
     "name": "stdout",
     "output_type": "stream",
     "text": [
      "{\"2023\": {\"3\": {\"23\": [\"1679529598\", \"1679532966\", \"1679536336\", \"1679539706\", \"1679543073\", \"1679546442\", \"1679549811\", \"1679553178\", \"1679556546\", \"1679559915\", \"1679563162\", \"1679566413\", \"1679569661\", \"1679572927\", \"1679576204\"], \"22\": [\"1679495742\", \"1679498962\", \"1679501803\", \"1679504932\", \"1679508302\", \"1679511669\", \"1679515039\", \"1679518410\", \"1679521778\", \"1679525027\", \"1679528396\"]}}}\n"
     ]
    }
   ],
   "source": [
    "\n",
    "\n",
    "########################\n",
    "airqIP = '192.168.4.1'\n",
    "airqpass = 'airqsetup'\n",
    "#########################\n",
    "\n",
    "# Zur Entschlüsselung notwendige Funktionen\n",
    "def unpad(data):\n",
    "  return data[:-ord(data[-1])]\n",
    "\n",
    "def decodeMessage(msgb64):\n",
    "  # Erster Schritt: base64 dekodieren\n",
    "  msg = base64.b64decode(msgb64)\n",
    "\n",
    "  # AES-Schlüssel der Länge 32 aus dem air-Q-Passwort erstellen\n",
    "  key = airqpass.encode('utf-8')\n",
    "  if len(key) < 32:\n",
    "    for i in range(32-len(key)):\n",
    "      key += b'0'\n",
    "  elif len(key) > 32:\n",
    "    key = key[:32]\n",
    "\n",
    "  # Zweiter Schritt: AES256 dekodieren\n",
    "  cipher = AES.new(key=key, mode=AES.MODE_CBC, IV=msg[:16])\n",
    "  return unpad(cipher.decrypt(msg[16:]).decode('utf-8'))\n",
    "\n",
    "# Verbindung zum air-Q aufbauen\n",
    "connection = http.client.HTTPConnection(airqIP)\n",
    "\n",
    "# Daten anfordern\n",
    "connection.request(\"GET\", \"/dirbuff\")\n",
    "contents = connection.getresponse()\n",
    "\n",
    "# Daten entschlüsseln und ausgeben\n",
    "msg = decodeMessage(contents.read())\n",
    "print(msg)\n",
    "\n",
    "# Verbindung trennen\n",
    "connection.close()"
   ]
  },
  {
   "cell_type": "code",
   "execution_count": null,
   "metadata": {},
   "outputs": [],
   "source": []
  }
 ],
 "metadata": {
  "kernelspec": {
   "display_name": "Python 3",
   "language": "python",
   "name": "python3"
  },
  "language_info": {
   "codemirror_mode": {
    "name": "ipython",
    "version": 3
   },
   "file_extension": ".py",
   "mimetype": "text/x-python",
   "name": "python",
   "nbconvert_exporter": "python",
   "pygments_lexer": "ipython3",
   "version": "3.11.2"
  },
  "orig_nbformat": 4,
  "vscode": {
   "interpreter": {
    "hash": "2a0a050ab192e474f7b7272bdadf992268f3a2dcfb356b7a62d3b65c1e4eaca4"
   }
  }
 },
 "nbformat": 4,
 "nbformat_minor": 2
}
