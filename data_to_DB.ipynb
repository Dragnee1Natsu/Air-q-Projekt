{
 "cells": [
  {
   "cell_type": "code",
   "execution_count": 78,
   "metadata": {},
   "outputs": [],
   "source": [
    "# Module Imports\n",
    "\n",
    "#DB stuff\n",
    "import mariadb\n",
    "import sys\n",
    "\n",
    "#Encryption Stuff\n",
    "import base64\n",
    "from Crypto.Cipher import AES\n",
    "import http.client\n",
    "from Crypto import Random\n",
    "\n",
    "#Other\n",
    "import json\n",
    "import time"
   ]
  },
  {
   "cell_type": "code",
   "execution_count": 79,
   "metadata": {},
   "outputs": [],
   "source": [
    "#Connect with DB\n",
    "# Connect to MariaDB Platform\n",
    "try:\n",
    "    conn = mariadb.connect(\n",
    "        user=\"airq\",\n",
    "        password=\"airq\",\n",
    "        host=\"localhost\",\n",
    "        port=3306,\n",
    "        database=\"airq_data\"\n",
    "\n",
    "    )\n",
    "except mariadb.Error as e:\n",
    "    print(f\"Error connecting to MariaDB Platform: {e}\")\n",
    "    sys.exit(1)\n",
    "\n",
    "# Get Cursor\n",
    "cur = conn.cursor()"
   ]
  },
  {
   "cell_type": "code",
   "execution_count": 80,
   "metadata": {},
   "outputs": [],
   "source": [
    "########################\n",
    "airqIP = '192.168.4.1'\n",
    "airqpass = 'airqsetup'\n",
    "#########################\n",
    "\n",
    "def unpad(data):\n",
    "  return data[:-ord(data[-1])]\n",
    "\n",
    "def decodeMessage(msgb64):\n",
    "  # Erster Schritt: base64 dekodieren\n",
    "  msg = base64.b64decode(msgb64)\n",
    "\n",
    "  # AES-Schlüssel der Länge 32 aus dem air-Q-Passwort erstellen\n",
    "  key = airqpass.encode('utf-8')\n",
    "  if len(key) < 32:\n",
    "    for i in range(32-len(key)):\n",
    "      key += b'0'\n",
    "  elif len(key) > 32:\n",
    "    key = key[:32]\n",
    "\n",
    "  # Zweiter Schritt: AES256 dekodieren\n",
    "  cipher = AES.new(key=key, mode=AES.MODE_CBC, IV=msg[:16])\n",
    "  return unpad(cipher.decrypt(msg[16:]).decode('utf-8'))\n",
    "\n",
    "def pad(data):\n",
    "  length = 16 - (len(data) % 16)\n",
    "  return data + chr(length).encode('utf-8')*length\n",
    "\n",
    "def encodeMessage(msg):\n",
    "  # AES-Schlüssel der Länge 32 aus dem air-Q-Passwort erstellen\n",
    "  key = airqpass.encode('utf-8')\n",
    "  if len(key) < 32:\n",
    "    for i in range(32-len(key)):\n",
    "      key += b'0'\n",
    "  elif len(key) > 32:\n",
    "    key = key[:32]\n",
    "\n",
    "  # Erster Schritt: AES256 verschlüsseln\n",
    "  iv = Random.new().read(AES.block_size)\n",
    "  cipher = AES.new(key=key, mode=AES.MODE_CBC, IV=iv)\n",
    "  msg = msg.encode('utf-8')\n",
    "  crypt = iv + cipher.encrypt(pad(msg))\n",
    "\n",
    "  # Zweiter Schritt: base64 enkodieren\n",
    "  msgb64 = base64.b64encode(crypt).decode('utf-8')\n",
    "  return msgb64\n",
    "\n",
    "#Gibt ein JSON-Objekt über die verfügbaren Daten zurück\n",
    "def getAvailable():\n",
    "    # Verbindung zum air-Q aufbauen\n",
    "    connection = http.client.HTTPConnection(airqIP)\n",
    "\n",
    "    # Daten anfordern\n",
    "    connection.request(\"GET\", \"/dirbuff\")\n",
    "    contents = connection.getresponse()\n",
    "\n",
    "    # Daten entschlüsseln\n",
    "    msg = decodeMessage(contents.read())\n",
    "  \n",
    "    #JSON-String umwandeln in dict\n",
    "    folder_dict = json.loads(msg)\n",
    "    \n",
    "    # Verbindung trennen\n",
    "    connection.close()\n",
    "\n",
    "    return folder_dict\n"
   ]
  },
  {
   "cell_type": "code",
   "execution_count": 81,
   "metadata": {},
   "outputs": [],
   "source": [
    "def file_to_db():\n",
    "    folder = getAvailable()\n",
    "\n",
    "    # Verbindung zum air-Q aufbauen\n",
    "    headers = {'Content-type': 'Test'}\n",
    "    connection = http.client.HTTPConnection(airqIP)\n",
    "\n",
    "    # Anfrage formulieren und Daten anfordern\n",
    "    connection.request(\"GET\",\"/file?request=\"+encodeMessage(\"2023/3/27/1679878517\"))\n",
    "    contents = connection.getresponse()\n",
    "    print(contents)\n",
    "    # Daten zeilenweise entschlüsseln und in Datei \"1589256960.txt\" ausgeben\n",
    "    with open(\"1679878517.txt\",\"x\") as f:\n",
    "        for line in contents.read().split(b'\\n'):\n",
    "            if line != b'':\n",
    "                f.write(decodeMessage(line)+'\\n')\n",
    "\n",
    "    # Verbindung trennen\n",
    "    connection.close()\n",
    "\n",
    "\n",
    "#Diese Daten beim einlesen rausfiltern\n",
    "\n",
    "#bat -> rausfiltern\n",
    "#DeviceID -> rausfiltern\n",
    "#uptime-> rausfiltern\n",
    "#window_event \n",
    "#door_event\n",
    "#person\n",
    "#window_open"
   ]
  },
  {
   "cell_type": "code",
   "execution_count": 82,
   "metadata": {},
   "outputs": [
    {
     "name": "stdout",
     "output_type": "stream",
     "text": [
      "<http.client.HTTPResponse object at 0x0000021723FE0070>\n"
     ]
    }
   ],
   "source": [
    "file_to_db()"
   ]
  },
  {
   "cell_type": "code",
   "execution_count": 83,
   "metadata": {},
   "outputs": [],
   "source": [
    "#DB-Connection close\n",
    "conn.close()"
   ]
  }
 ],
 "metadata": {
  "kernelspec": {
   "display_name": "Python 3",
   "language": "python",
   "name": "python3"
  },
  "language_info": {
   "codemirror_mode": {
    "name": "ipython",
    "version": 3
   },
   "file_extension": ".py",
   "mimetype": "text/x-python",
   "name": "python",
   "nbconvert_exporter": "python",
   "pygments_lexer": "ipython3",
   "version": "3.11.2"
  },
  "orig_nbformat": 4
 },
 "nbformat": 4,
 "nbformat_minor": 2
}
