{
 "cells": [
  {
   "cell_type": "code",
   "execution_count": 4,
   "metadata": {},
   "outputs": [],
   "source": [
    "# Module Imports\n",
    "\n",
    "#DB stuff\n",
    "import mariadb\n",
    "import sys\n",
    "\n",
    "#Encryption Stuff\n",
    "import base64\n",
    "from Crypto.Cipher import AES\n",
    "import http.client\n",
    "from Crypto import Random\n",
    "\n",
    "#Other\n",
    "import json\n",
    "import time"
   ]
  },
  {
   "cell_type": "code",
   "execution_count": 7,
   "metadata": {},
   "outputs": [],
   "source": [
    "#Connect with DB\n",
    "# Connect to MariaDB Platform\n",
    "try:\n",
    "    conn = mariadb.connect(\n",
    "        user=\"airq\",\n",
    "        password=\"airq\",\n",
    "        host=\"localhost\",\n",
    "        port=3306,\n",
    "        database=\"airq_data\"\n",
    "\n",
    "    )\n",
    "except mariadb.Error as e:\n",
    "    print(f\"Error connecting to MariaDB Platform: {e}\")\n",
    "    sys.exit(1)\n",
    "\n",
    "# Get Cursor\n",
    "cur = conn.cursor()"
   ]
  },
  {
   "cell_type": "code",
   "execution_count": null,
   "metadata": {},
   "outputs": [],
   "source": [
    "########################\n",
    "airqIP = '192.168.4.1'\n",
    "airqpass = 'airqsetup'\n",
    "#########################\n",
    "\n",
    "def unpad(data):\n",
    "  return data[:-ord(data[-1])]\n",
    "\n",
    "\n",
    "def decodeMessage(msgb64):\n",
    "  # Erster Schritt: base64 dekodieren\n",
    "  msg = base64.b64decode(msgb64)\n",
    "\n",
    "  # AES-Schlüssel der Länge 32 aus dem air-Q-Passwort erstellen\n",
    "  key = airqpass.encode('utf-8')\n",
    "  if len(key) < 32:\n",
    "    for i in range(32-len(key)):\n",
    "      key += b'0'\n",
    "  elif len(key) > 32:\n",
    "    key = key[:32]\n",
    "\n",
    "  # Zweiter Schritt: AES256 dekodieren\n",
    "  cipher = AES.new(key=key, mode=AES.MODE_CBC, IV=msg[:16])\n",
    "  return unpad(cipher.decrypt(msg[16:]).decode('utf-8'))\n",
    "\n",
    "#Gibt ein JSON-Objekt über die verfügbaren Daten zurück\n",
    "def getAvailable():\n",
    "    # Verbindung zum air-Q aufbauen\n",
    "    connection = http.client.HTTPConnection(airqIP)\n",
    "\n",
    "    # Daten anfordern\n",
    "    connection.request(\"GET\", \"/dirbuff\")\n",
    "    contents = connection.getresponse()\n",
    "\n",
    "    # Daten entschlüsseln und ausgeben\n",
    "    msg = json.loads(contents.read())\n",
    "    msg['content'] = json.loads(decodeMessage(msg['content']))\n",
    "    print(json.dumps(msg['content']))\n",
    "\n",
    "    # Verbindung trennen\n",
    "    connection.close()\n",
    "\n",
    "    # Serializing json\n",
    "    json_object = json.dumps(msg['content'], indent=4)\n",
    "    \n",
    "    # Writing to sample.json\n",
    "    #with open(\"measurement_data.json\", \"w\") as outfile:\n",
    "    #    outfile.write(json_object)\n",
    "    return json_object"
   ]
  },
  {
   "cell_type": "code",
   "execution_count": null,
   "metadata": {},
   "outputs": [],
   "source": [
    "#Request available data"
   ]
  },
  {
   "cell_type": "code",
   "execution_count": 8,
   "metadata": {},
   "outputs": [],
   "source": [
    "#DB-Connection close\n",
    "conn.close()"
   ]
  }
 ],
 "metadata": {
  "kernelspec": {
   "display_name": "Python 3",
   "language": "python",
   "name": "python3"
  },
  "language_info": {
   "codemirror_mode": {
    "name": "ipython",
    "version": 3
   },
   "file_extension": ".py",
   "mimetype": "text/x-python",
   "name": "python",
   "nbconvert_exporter": "python",
   "pygments_lexer": "ipython3",
   "version": "3.11.2"
  },
  "orig_nbformat": 4
 },
 "nbformat": 4,
 "nbformat_minor": 2
}
